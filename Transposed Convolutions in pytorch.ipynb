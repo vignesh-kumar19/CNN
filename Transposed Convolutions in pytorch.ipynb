{
 "cells": [
  {
   "cell_type": "code",
   "execution_count": 1,
   "metadata": {},
   "outputs": [],
   "source": [
    "import torch\n",
    "import torch.nn.functional as F"
   ]
  },
  {
   "cell_type": "code",
   "execution_count": 8,
   "metadata": {},
   "outputs": [],
   "source": [
    "# parameters\n",
    "IMG_H = 3\n",
    "IMG_W = 3\n",
    "KER_H = 2\n",
    "KER_W = 2\n",
    "IN_CHANNELS = 1\n",
    "OUT_CHANNELS = 1 \n",
    "BATCH_SIZE = 1"
   ]
  },
  {
   "cell_type": "code",
   "execution_count": 9,
   "metadata": {},
   "outputs": [
    {
     "name": "stdout",
     "output_type": "stream",
     "text": [
      "Input:\n",
      "tensor([[[[4, 9, 3],\n",
      "          [0, 3, 9],\n",
      "          [7, 3, 7]]]])\n",
      "Kernel:\n",
      "tensor([[[[1, 1],\n",
      "          [1, 1]]]])\n"
     ]
    }
   ],
   "source": [
    "torch.manual_seed(0)\n",
    "inp = torch.randint(10, (BATCH_SIZE, IN_CHANNELS, IMG_H, IMG_W))\n",
    "kernel = torch.ones(size=(BATCH_SIZE, OUT_CHANNELS, KER_H, KER_W)).type(torch.long)\n",
    "print(\"Input:\")\n",
    "print(inp)\n",
    "print(\"Kernel:\")\n",
    "print(kernel)"
   ]
  },
  {
   "cell_type": "code",
   "execution_count": 10,
   "metadata": {},
   "outputs": [],
   "source": [
    "torch.manual_seed(0)\n",
    "inp = torch.randint(10, (BATCH_SIZE, IN_CHANNELS, 3, 3))\n",
    "kernel = torch.ones(size=(BATCH_SIZE, OUT_CHANNELS, 2, 2)).type(torch.long)"
   ]
  },
  {
   "cell_type": "code",
   "execution_count": 16,
   "metadata": {},
   "outputs": [
    {
     "data": {
      "text/plain": [
       "tensor([[[[ 4, 13, 12,  3],\n",
       "          [ 4, 16, 24, 12],\n",
       "          [ 7, 13, 22, 16],\n",
       "          [ 7, 10, 10,  7]]]])"
      ]
     },
     "execution_count": 16,
     "metadata": {},
     "output_type": "execute_result"
    }
   ],
   "source": [
    "padding = 0\n",
    "stride = 1\n",
    "F.conv_transpose2d(inp, kernel, stride=stride, padding=padding)"
   ]
  },
  {
   "cell_type": "code",
   "execution_count": 18,
   "metadata": {},
   "outputs": [
    {
     "data": {
      "text/plain": [
       "tensor([[[[16, 24],\n",
       "          [13, 22]]]])"
      ]
     },
     "execution_count": 18,
     "metadata": {},
     "output_type": "execute_result"
    }
   ],
   "source": [
    "padding = 1\n",
    "stride = 1\n",
    "F.conv_transpose2d(inp, kernel, stride=stride, padding=padding)"
   ]
  },
  {
   "cell_type": "code",
   "execution_count": null,
   "metadata": {},
   "outputs": [],
   "source": []
  }
 ],
 "metadata": {
  "kernelspec": {
   "display_name": "Python 3",
   "language": "python",
   "name": "python3"
  },
  "language_info": {
   "codemirror_mode": {
    "name": "ipython",
    "version": 3
   },
   "file_extension": ".py",
   "mimetype": "text/x-python",
   "name": "python",
   "nbconvert_exporter": "python",
   "pygments_lexer": "ipython3",
   "version": "3.6.3"
  }
 },
 "nbformat": 4,
 "nbformat_minor": 4
}
