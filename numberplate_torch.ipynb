{
  "nbformat": 4,
  "nbformat_minor": 0,
  "metadata": {
    "colab": {
      "name": "numberplate_torch.ipynb",
      "provenance": [],
      "collapsed_sections": [],
      "machine_shape": "hm"
    },
    "kernelspec": {
      "name": "python3",
      "display_name": "Python 3"
    },
    "accelerator": "GPU"
  },
  "cells": [
    {
      "cell_type": "code",
      "metadata": {
        "id": "EkOT_lx7CUD5",
        "colab_type": "code",
        "colab": {}
      },
      "source": [
        "!wget https://www.dropbox.com/s/tridhlj6xjqom90/anpr_ocr-1790.zip?dl=0\n",
        "!wget https://www.dropbox.com/s/gcs7wxsc847xh2h/numbers.JPG?dl=0\n",
        "!mv numbers.JPG?dl=0 numbers.JPG\n",
        "!wget https://www.dropbox.com/s/52mptr26gpl8foo/bill-out.PNG?dl=0\n",
        "!mv bill-out.PNG?dl=0 bill-out.PNG\n",
        "!unzip anpr_ocr-1790.zip?dl=0"
      ],
      "execution_count": 0,
      "outputs": []
    },
    {
      "cell_type": "code",
      "metadata": {
        "id": "zjD9nm2_CkCQ",
        "colab_type": "code",
        "colab": {}
      },
      "source": [
        "import cv2\n",
        "import os\n",
        "import numpy as np\n",
        "import torch\n",
        "import matplotlib.pyplot as plt\n",
        "import torch.nn as nn\n",
        "import torch.nn.functional as F\n",
        "import string"
      ],
      "execution_count": 0,
      "outputs": []
    },
    {
      "cell_type": "code",
      "metadata": {
        "id": "wyalcLTip6Nk",
        "colab_type": "code",
        "colab": {}
      },
      "source": [
        "device = torch.device('cuda' if torch.cuda.is_available() else 'cpu')"
      ],
      "execution_count": 0,
      "outputs": []
    },
    {
      "cell_type": "code",
      "metadata": {
        "id": "YpkKo17fFaJe",
        "colab_type": "code",
        "colab": {}
      },
      "source": [
        "dataset_path = \"train/anpr_ocr/train/img/\"\n",
        "x0 = []\n",
        "y0 = []\n",
        "for i in os.listdir(dataset_path):\n",
        "    image = cv2.imread(dataset_path + i)\n",
        "    image = cv2.cvtColor(image, cv2.COLOR_BGR2GRAY)\n",
        "    image = cv2.resize(image, (128, 32))\n",
        "    # plt.imshow(image)\n",
        "    image = image.astype(np.float32)\n",
        "    x0.append(image)\n",
        "    y0.append(i.split('.')[0])"
      ],
      "execution_count": 0,
      "outputs": []
    },
    {
      "cell_type": "code",
      "metadata": {
        "id": "Riz_R4sNOFQV",
        "colab_type": "code",
        "outputId": "db2ec3e2-7790-4060-b9ae-7ccaed455ae3",
        "colab": {
          "base_uri": "https://localhost:8080/",
          "height": 676
        }
      },
      "source": [
        "# Label format \n",
        "# ['_', '3',  'O',  '1',  'E',  'P',  '7',  '9',  '0',  'X',  '2',  'T',  '6',  'Y',  'M',  'A',  'C',  'B',  '5',  '8',  'H',  '4',  'K']\n",
        "# import itertools\n",
        "# charList = [\"_\"]\n",
        "# charList.extend(list(set(itertools.chain(*y0))))\n",
        "charList = ['_'] + list(map(str, range(0, 10))) + list(string.ascii_uppercase)\n",
        "charList, len(charList)"
      ],
      "execution_count": 0,
      "outputs": [
        {
          "output_type": "execute_result",
          "data": {
            "text/plain": [
              "(['_',\n",
              "  '0',\n",
              "  '1',\n",
              "  '2',\n",
              "  '3',\n",
              "  '4',\n",
              "  '5',\n",
              "  '6',\n",
              "  '7',\n",
              "  '8',\n",
              "  '9',\n",
              "  'A',\n",
              "  'B',\n",
              "  'C',\n",
              "  'D',\n",
              "  'E',\n",
              "  'F',\n",
              "  'G',\n",
              "  'H',\n",
              "  'I',\n",
              "  'J',\n",
              "  'K',\n",
              "  'L',\n",
              "  'M',\n",
              "  'N',\n",
              "  'O',\n",
              "  'P',\n",
              "  'Q',\n",
              "  'R',\n",
              "  'S',\n",
              "  'T',\n",
              "  'U',\n",
              "  'V',\n",
              "  'W',\n",
              "  'X',\n",
              "  'Y',\n",
              "  'Z'],\n",
              " 37)"
            ]
          },
          "metadata": {
            "tags": []
          },
          "execution_count": 29
        }
      ]
    },
    {
      "cell_type": "code",
      "metadata": {
        "id": "MHwuRCw2RKVo",
        "colab_type": "code",
        "colab": {}
      },
      "source": [
        "max_len = max([len(i) for i in y0])\n",
        "# max_len = 32\n",
        "targets = []\n",
        "for i in y0:\n",
        "    seq = list(map(lambda x0: charList.index(x0), i))\n",
        "    while len(seq) < max_len:\n",
        "        seq.append(0)\n",
        "    targets.append(seq)"
      ],
      "execution_count": 0,
      "outputs": []
    },
    {
      "cell_type": "code",
      "metadata": {
        "id": "MzgmKEp4xw3r",
        "colab_type": "code",
        "outputId": "8e1cdeaf-cef3-4e94-f373-d7e5f980c866",
        "colab": {
          "base_uri": "https://localhost:8080/",
          "height": 35
        }
      },
      "source": [
        "np.asarray(x0).shape"
      ],
      "execution_count": 0,
      "outputs": [
        {
          "output_type": "execute_result",
          "data": {
            "text/plain": [
              "(10281, 32, 128)"
            ]
          },
          "metadata": {
            "tags": []
          },
          "execution_count": 31
        }
      ]
    },
    {
      "cell_type": "code",
      "metadata": {
        "id": "ox2yUjDvHeX8",
        "colab_type": "code",
        "outputId": "88334310-613a-4c0e-8167-ff6a94f00547",
        "colab": {
          "base_uri": "https://localhost:8080/",
          "height": 35
        }
      },
      "source": [
        "# x0 = np.asarray(x0).reshape(10281, 1, 64, 128)\n",
        "x0 = np.asarray(x0).reshape(10281, 1, 32, 128)\n",
        "# x0 = np.asarray(x0)\n",
        "targets = np.asarray(targets)\n",
        "x0 = x0/255\n",
        "x0.shape, targets.shape"
      ],
      "execution_count": 0,
      "outputs": [
        {
          "output_type": "execute_result",
          "data": {
            "text/plain": [
              "((10281, 1, 32, 128), (10281, 8))"
            ]
          },
          "metadata": {
            "tags": []
          },
          "execution_count": 32
        }
      ]
    },
    {
      "cell_type": "code",
      "metadata": {
        "id": "UYQwAShtt_vD",
        "colab_type": "code",
        "outputId": "ca1017dc-2a56-424e-fffd-e0335bb1b060",
        "colab": {
          "base_uri": "https://localhost:8080/",
          "height": 35
        }
      },
      "source": [
        "targets[0]"
      ],
      "execution_count": 0,
      "outputs": [
        {
          "output_type": "execute_result",
          "data": {
            "text/plain": [
              "array([34,  3,  1,  6, 15, 21,  1, 10])"
            ]
          },
          "metadata": {
            "tags": []
          },
          "execution_count": 33
        }
      ]
    },
    {
      "cell_type": "code",
      "metadata": {
        "id": "c61sGd7uJoJ9",
        "colab_type": "code",
        "outputId": "b28d1ff7-6410-41c5-b7ed-3e4d1b7572e0",
        "colab": {
          "base_uri": "https://localhost:8080/",
          "height": 35
        }
      },
      "source": [
        "x2 = torch.from_numpy(x0)\n",
        "y2 = torch.from_numpy(targets)\n",
        "input_lengths = torch.full(size=(10281,), fill_value=32, dtype=torch.long)\n",
        "# input_lengths = torch.full(size=(10281,), fill_value=80, dtype=torch.long)\n",
        "target_lengths = torch.full(size=(10281,), fill_value=8, dtype=torch.long)\n",
        "input_lengths, target_lengths"
      ],
      "execution_count": 0,
      "outputs": [
        {
          "output_type": "execute_result",
          "data": {
            "text/plain": [
              "(tensor([37, 37, 37,  ..., 37, 37, 37]), tensor([8, 8, 8,  ..., 8, 8, 8]))"
            ]
          },
          "metadata": {
            "tags": []
          },
          "execution_count": 34
        }
      ]
    },
    {
      "cell_type": "code",
      "metadata": {
        "id": "gksyuEGsQTDs",
        "colab_type": "code",
        "outputId": "70f8f915-cc9d-4882-c3c9-c4d03c4d99e0",
        "colab": {
          "base_uri": "https://localhost:8080/",
          "height": 52
        }
      },
      "source": [
        "y2[0:2]"
      ],
      "execution_count": 0,
      "outputs": [
        {
          "output_type": "execute_result",
          "data": {
            "text/plain": [
              "tensor([[34,  3,  1,  6, 15, 21,  1, 10],\n",
              "        [12,  1,  3,  8, 34, 35,  3,  4]])"
            ]
          },
          "metadata": {
            "tags": []
          },
          "execution_count": 43
        }
      ]
    },
    {
      "cell_type": "markdown",
      "metadata": {
        "id": "uig0pL6MgCZT",
        "colab_type": "text"
      },
      "source": [
        "# Model creation"
      ]
    },
    {
      "cell_type": "code",
      "metadata": {
        "id": "NuBAukRlhwvI",
        "colab_type": "code",
        "colab": {}
      },
      "source": [
        "class OCR(nn.Module):\n",
        "    def __init__(self):\n",
        "        super().__init__()\n",
        "#         self.conv1 = nn.Conv2d(in_channels=1, out_channels=32, kernel_size=(3, 3), padding=(1, 1)) # (N, Channels, Height, Width)\n",
        "#         self.conv2 = nn.Conv2d(in_channels=32, out_channels=64, kernel_size=(3, 3), padding=(1, 1)) # (N, Channels, Height, Width)\n",
        "#         self.conv3 = nn.Conv2d(in_channels=64, out_channels=128, kernel_size=(3, 3), padding=(1, 1)) # (N, Channels, Height, Width)\n",
        "        self.conv3 = nn.Conv2d(in_channels=1, out_channels=128, kernel_size=(3, 3), padding=(1, 1)) # (N, Channels, Height, Width)\n",
        "        self.conv4 = nn.Conv2d(in_channels=128, out_channels=128, kernel_size=(3, 3), padding=(1, 1)) # (N, Channels, Height, Width)\n",
        "        self.conv5 = nn.Conv2d(in_channels=128, out_channels=256, kernel_size=(3, 3), padding=(1, 1)) # (N, Channels, Height, Width)\n",
        "        self.gru1 = nn.GRU(input_size=256, hidden_size=256, num_layers=1, batch_first=True, bidirectional=True)\n",
        "        self.gru2 = nn.GRU(input_size=256, hidden_size=256, num_layers=1, batch_first=True, bidirectional=True)\n",
        "        self.linear = nn.Linear(512, len(charList))\n",
        "        self.softmax = torch.nn.Softmax(dim=-1)\n",
        "#         self.conv1 = nn.Conv2d(in_channels=1, out_channels=16, kernel_size=(3, 3), padding=(1, 1)) # (N, Channels, Height, Width)\n",
        "#         self.conv2 = nn.Conv2d(in_channels=16, out_channels=16, kernel_size=(3, 3), padding=(1, 1)) # (N, Channels, Height, Width)\n",
        "#         self.dense1 = nn.Linear(16*16, 32)\n",
        "#         self.gru1 = nn.GRU(input_size=32, hidden_size=512, num_layers=1, batch_first=True, bidirectional=True)\n",
        "#         self.gru2 = nn.GRU(input_size=512, hidden_size=512, num_layers=1, batch_first=True, bidirectional=True)\n",
        "#         self.dense2 = nn.Linear(1024, len(charList))\n",
        "#         self.softmax = nn.Softmax(dim=-1)\n",
        "    \n",
        "    def forward(self, x):\n",
        "#         conv1 = F.relu(self.conv1(x))\n",
        "# #         print(\"Conv1 shape:\", conv1.shape)\n",
        "#         pool1 = F.max_pool2d(conv1, 2, 2)\n",
        "# #         print(\"Pool1 shape:\", pool1.shape)\n",
        "#         conv2 = F.relu(self.conv2(pool1))\n",
        "# #         print(\"Conv2 Shape:\", conv2.shape)\n",
        "#         pool2 = F.max_pool2d(conv2, 2, 2)\n",
        "# #         print(\"Pool2 shape\", pool2.shape)\n",
        "#         reshaped = pool2.view(-1, 32, 16*16)\n",
        "# #         print(\"Reshape shape\", reshaped.shape)\n",
        "# #         reshaped = reshaped.permute(0, 2, 1)\n",
        "# #         print(\"Permuted shape\", reshaped.shape)\n",
        "#         dense1 = F.relu(self.dense1(reshaped))\n",
        "#         gru1_output, (gru1_hidden, gru1_cell) = self.gru1(dense1)\n",
        "# #         print(\"Gru1 output shape:\", gru1_output.shape)\n",
        "#         gru1_shape = gru1_output.shape\n",
        "#         gru1_reshaped = gru1_output.view(gru1_shape[0], gru1_shape[1], 2, 512)\n",
        "# #         print(\"Gru1 shape:\", gru1_reshaped.shape)\n",
        "#         gru1_fwd = gru1_reshaped[:, :, 0, :]\n",
        "# #         print(\"GRU1 fwd shape:\", gru1_fwd.shape)\n",
        "#         gru1_bwd = gru1_reshaped[:, :, 1, :]\n",
        "# #         print(\"GRU1 bwd shape:\", gru1_bwd.shape)\n",
        "#         gru1 = gru1_fwd + gru1_bwd\n",
        "# #         print(\"GRU1 shape:\", gru1.shape)\n",
        "#         gru2_output, (gru2_hidden, gru2_cell) = self.gru2(gru1)\n",
        "# #         print(\"GRU2 output shape:\", gru2_output.shape)\n",
        "#         dense2 = F.relu(self.dense2(gru2_output))\n",
        "\n",
        "# #         print(\"Dense shape: \", dense2.shape)\n",
        "# #         output = self.softmax(dense2)\n",
        "#         output = dense2\n",
        "\n",
        "# #         print(\"Output shape: \", dense2.shape)\n",
        "#         output_permuted = output.view(output.shape[1], output.shape[0], output.shape[2])\n",
        "# #         print(\"Permuted shape:\", output_permuted.shape)\n",
        "#         return output_permuted\n",
        "        \n",
        "        \n",
        "        \n",
        "        # print(\"Input shape:\", x.shape)\n",
        "#         conv1 = F.relu(self.conv1(x))\n",
        "#         print(\"Conv1 shape:\", conv1.shape)\n",
        "#         pool1 = F.max_pool2d(conv1, 2, 2)\n",
        "#         print(\"Pool1 shape:\", pool1.shape)\n",
        "#         conv2 = F.relu(self.conv2(pool1))\n",
        "#         print(\"Conv2 shape:\", conv2.shape)\n",
        "#         pool2 = F.max_pool2d(conv2, 2, 2)\n",
        "#         print(\"Pool2 shape:\", pool2.shape)\n",
        "#         conv3 = F.relu(self.conv3(pool2))\n",
        "        conv3 = F.relu(self.conv3(x))\n",
        "        # print(\"Conv3 shape:\", conv3.shape)\n",
        "        pool3 = F.max_pool2d(conv3, 2, 2)\n",
        "        # print(\"Pool3 shape:\", pool3.shape)\n",
        "        conv4 = F.relu(self.conv4(pool3))\n",
        "        # print(\"Conv4 shape:\", conv4.shape)\n",
        "        pool4 = F.max_pool2d(conv4, 2, 4)\n",
        "        # print(\"Pool4 shape:\", pool4.shape)\n",
        "        fc = pool4.view(-1, 2*16, 256)\n",
        "        # print(\"FC shape:\", fc.shape)\n",
        "        gru1_output, (gru1_hidden, gru1_cell) = self.gru1(fc)\n",
        "        # print(\"GRU1 output:\", gru1_output.shape)\n",
        "        gru_reshaped = gru1_output.view(-1, 32, 2, 256)\n",
        "        # print(\"GRU1 reshaped shape:\", gru_reshaped.shape)\n",
        "        gru_fwd = gru_reshaped[:, :, 0, :]\n",
        "        # print(\"GRU FWD shape:\", gru_fwd.shape)\n",
        "        gru_bwd = gru_reshaped[:, :, 1, :]\n",
        "        # print(\"GRU BWD shape:\", gru_bwd.shape)\n",
        "        gru1 = gru_fwd + gru_bwd\n",
        "        # print(\"Gru1 shape:\", gru1.shape)\n",
        "        gru2_output, (gru2_hidden, gru2_cell) = self.gru2(gru1)\n",
        "        # print(\"GRU2 output shape:\", gru2_output.shape)\n",
        "        dense = self.linear(gru2_output)\n",
        "        # print(\"Dense shape:\", dense.shape)\n",
        "        output = F.relu(dense)\n",
        "#         output = self.softmax(dense)\n",
        "        # print(\"Ouptut Shape:\", output.shape)\n",
        "        return output.permute(1, 0, 2)\n"
      ],
      "execution_count": 0,
      "outputs": []
    },
    {
      "cell_type": "code",
      "metadata": {
        "id": "5knM0kP70WzR",
        "colab_type": "code",
        "colab": {}
      },
      "source": [
        "model = OCR().to(device)\n",
        "optimizer = torch.optim.Adagrad(model.parameters(), lr=0.001)\n",
        "criterion = nn.CTCLoss(blank=0)"
      ],
      "execution_count": 0,
      "outputs": []
    },
    {
      "cell_type": "code",
      "metadata": {
        "id": "36sr9ZSW1YxD",
        "colab_type": "code",
        "outputId": "e7e62cc0-5039-4a65-f549-d93828ae650d",
        "colab": {
          "base_uri": "https://localhost:8080/",
          "height": 173
        }
      },
      "source": [
        "model"
      ],
      "execution_count": 0,
      "outputs": [
        {
          "output_type": "execute_result",
          "data": {
            "text/plain": [
              "OCR(\n",
              "  (conv3): Conv2d(1, 128, kernel_size=(3, 3), stride=(1, 1), padding=(1, 1))\n",
              "  (conv4): Conv2d(128, 128, kernel_size=(3, 3), stride=(1, 1), padding=(1, 1))\n",
              "  (conv5): Conv2d(128, 256, kernel_size=(3, 3), stride=(1, 1), padding=(1, 1))\n",
              "  (gru1): GRU(256, 256, batch_first=True, bidirectional=True)\n",
              "  (gru2): GRU(256, 256, batch_first=True, bidirectional=True)\n",
              "  (linear): Linear(in_features=512, out_features=37, bias=True)\n",
              "  (softmax): Softmax(dim=-1)\n",
              ")"
            ]
          },
          "metadata": {
            "tags": []
          },
          "execution_count": 37
        }
      ]
    },
    {
      "cell_type": "markdown",
      "metadata": {
        "id": "pMXms2WpgkXu",
        "colab_type": "text"
      },
      "source": [
        "# Create Traning dataset batch by batch"
      ]
    },
    {
      "cell_type": "code",
      "metadata": {
        "id": "Q-sDjyp5MrHo",
        "colab_type": "code",
        "colab": {}
      },
      "source": [
        "class training_data():\n",
        "    def __init__(self, batch_size):\n",
        "        self.current_index = 0\n",
        "        self.len = len(x2)\n",
        "        self.batch_size = batch_size\n",
        "\n",
        "    def next_samples(self):\n",
        "        \n",
        "        x = x2[self.current_index:self.current_index+self.batch_size]\n",
        "        y = y2[self.current_index:self.current_index+self.batch_size]\n",
        "        x_lengths = input_lengths[self.current_index:self.current_index+self.batch_size]\n",
        "        y_lengths = target_lengths[self.current_index:self.current_index+self.batch_size]\n",
        "        # x_lengths = torch.full(size=(self.batch_size,), fill_value=len(charList), dtype=torch.long)\n",
        "        # y_lengths = torch.full(size=(self.batch_size,), fill_value=8, dtype=torch.long)\n",
        "        \n",
        "        \n",
        "        self.current_index = self.current_index + self.batch_size\n",
        "        \n",
        "        if self.current_index >= self.len:\n",
        "            self.current_index = 0\n",
        "        \n",
        "        return x, y, x_lengths, y_lengths\n",
        "            \n",
        "            \n",
        "    def next_batch(self):\n",
        "        # print(\"Data between {} and {}\".format(self.current_index, self.current_index+self.batch_size))\n",
        "        x, y, x_lengths, y_lengths = self.next_samples()\n",
        "        return (x, y, x_lengths, y_lengths)"
      ],
      "execution_count": 0,
      "outputs": []
    },
    {
      "cell_type": "code",
      "metadata": {
        "id": "d1w2eTAcMq0B",
        "colab_type": "code",
        "outputId": "7b71de10-1438-464d-a87f-303c43861437",
        "colab": {
          "base_uri": "https://localhost:8080/",
          "height": 121
        }
      },
      "source": [
        "input_lengths[:100]"
      ],
      "execution_count": 0,
      "outputs": [
        {
          "output_type": "execute_result",
          "data": {
            "text/plain": [
              "tensor([37, 37, 37, 37, 37, 37, 37, 37, 37, 37, 37, 37, 37, 37, 37, 37, 37, 37,\n",
              "        37, 37, 37, 37, 37, 37, 37, 37, 37, 37, 37, 37, 37, 37, 37, 37, 37, 37,\n",
              "        37, 37, 37, 37, 37, 37, 37, 37, 37, 37, 37, 37, 37, 37, 37, 37, 37, 37,\n",
              "        37, 37, 37, 37, 37, 37, 37, 37, 37, 37, 37, 37, 37, 37, 37, 37, 37, 37,\n",
              "        37, 37, 37, 37, 37, 37, 37, 37, 37, 37, 37, 37, 37, 37, 37, 37, 37, 37,\n",
              "        37, 37, 37, 37, 37, 37, 37, 37, 37, 37])"
            ]
          },
          "metadata": {
            "tags": []
          },
          "execution_count": 39
        }
      ]
    },
    {
      "cell_type": "code",
      "metadata": {
        "id": "CfSUrdgIbHHL",
        "colab_type": "code",
        "outputId": "4c2b7644-7b04-4174-d1b7-4857239b0341",
        "colab": {
          "base_uri": "https://localhost:8080/",
          "height": 35
        }
      },
      "source": [
        "len(x2) // 2500"
      ],
      "execution_count": 0,
      "outputs": [
        {
          "output_type": "execute_result",
          "data": {
            "text/plain": [
              "4"
            ]
          },
          "metadata": {
            "tags": []
          },
          "execution_count": 40
        }
      ]
    },
    {
      "cell_type": "markdown",
      "metadata": {
        "id": "Piq2ooT8gooj",
        "colab_type": "text"
      },
      "source": [
        "# Train the model"
      ]
    },
    {
      "cell_type": "code",
      "metadata": {
        "id": "zlDrRmc92TV-",
        "colab_type": "code",
        "outputId": "e7166983-6dfd-4153-9455-daebf5b17ab4",
        "colab": {
          "base_uri": "https://localhost:8080/",
          "height": 1000
        }
      },
      "source": [
        "epochs = 1000\n",
        "loss_history = []\n",
        "acc_history = []\n",
        "batch_size = 128\n",
        "training_dataset = training_data(batch_size)\n",
        "\n",
        "# x, y, x_lens, y_lens = training_dataset.next_batch()\n",
        "# x, y, x_lens, y_lens = x2[:100], y2[:100], input_lengths[:100], target_lengths[:100]\n",
        "\n",
        "# x = x.to(device)\n",
        "# y = y.to(device)\n",
        "\n",
        "# x_lens = x_lens.to(device)\n",
        "# y_lens = y_lens.to(device)\n",
        "\n",
        "for i in range(epochs):\n",
        "    print(\"***************** Epochs {} *****************\".format(i))\n",
        "    for batch in  range(len(x2)//batch_size):\n",
        "        # print(\"Batch:\", batch)\n",
        "        x, y, x_lens, y_lens = training_dataset.next_batch()\n",
        "        x = x.to(device)\n",
        "        y = y.to(device)\n",
        "\n",
        "        x_lens = x_lens.to(device)\n",
        "        y_lens = y_lens.to(device)\n",
        "        print(x)\n",
        "        print(y)\n",
        "        print(x_lens)\n",
        "        print(y_lens)\n",
        "    #     running_loss = 0.0\n",
        "    #     for j in range(len(x2)//batch_size):\n",
        "    #         print(j)\n",
        "    #         print(x_lens)\n",
        "        \n",
        "        \n",
        "        pred = model.forward(x)\n",
        "        \n",
        "        # print(pred.shape)\n",
        "        # print(y.shape)\n",
        "        pred = pred.log_softmax(2)\n",
        "        print(pred.shape)\n",
        "    #         print(pred.shape)\n",
        "    #         print(y.shape)\n",
        "    #         print(x_lens.shape)\n",
        "    #         print(y_lens.shape)\n",
        "        loss = criterion(pred[:, :, :], y, x_lens, y_lens)\n",
        "\n",
        "        optimizer.zero_grad()\n",
        "        loss.backward()\n",
        "        optimizer.step()\n",
        "        loss_history.append(loss.item())\n",
        "        if i % 100 == 0:\n",
        "            print(loss.item())\n",
        "    #         print(loss.item())\n",
        "    #     running_loss += loss.item()\n",
        "        \n",
        "    #     epoch_loss = running_loss * batch_size / len(x)\n",
        "    #     loss_history.append(epoch_loss)\n",
        "    #     print(\"Loss: \", epoch_loss)"
      ],
      "execution_count": 0,
      "outputs": [
        {
          "output_type": "stream",
          "text": [
            "***************** Epochs 0 *****************\n",
            "tensor([[[[0.7765, 0.4627, 0.3647,  ..., 0.3647, 0.4627, 0.7765],\n",
            "          [0.2588, 0.1686, 0.1333,  ..., 0.1333, 0.1686, 0.2588],\n",
            "          [0.0980, 0.1765, 0.5294,  ..., 0.5294, 0.1765, 0.0980],\n",
            "          ...,\n",
            "          [0.1569, 0.1294, 0.2549,  ..., 0.2549, 0.1294, 0.1569],\n",
            "          [0.5098, 0.1373, 0.1059,  ..., 0.1059, 0.1373, 0.5098],\n",
            "          [0.7333, 0.6863, 0.6667,  ..., 0.6667, 0.6863, 0.7333]]],\n",
            "\n",
            "\n",
            "        [[[0.7765, 0.4627, 0.3647,  ..., 0.3647, 0.4627, 0.7765],\n",
            "          [0.2588, 0.1686, 0.1333,  ..., 0.1333, 0.1686, 0.2588],\n",
            "          [0.0980, 0.1765, 0.5294,  ..., 0.5294, 0.1765, 0.0980],\n",
            "          ...,\n",
            "          [0.1569, 0.1294, 0.2549,  ..., 0.2549, 0.1294, 0.1569],\n",
            "          [0.5098, 0.1373, 0.1059,  ..., 0.1059, 0.1373, 0.5098],\n",
            "          [0.7333, 0.6863, 0.6667,  ..., 0.6667, 0.6863, 0.7333]]],\n",
            "\n",
            "\n",
            "        [[[0.7765, 0.4627, 0.3647,  ..., 0.3647, 0.4627, 0.7765],\n",
            "          [0.2588, 0.1686, 0.1333,  ..., 0.1333, 0.1686, 0.2588],\n",
            "          [0.0980, 0.1765, 0.5294,  ..., 0.5294, 0.1765, 0.0980],\n",
            "          ...,\n",
            "          [0.1569, 0.1294, 0.2549,  ..., 0.2549, 0.1294, 0.1569],\n",
            "          [0.5098, 0.1373, 0.1059,  ..., 0.1059, 0.1373, 0.5098],\n",
            "          [0.7333, 0.6863, 0.6667,  ..., 0.6667, 0.6863, 0.7333]]],\n",
            "\n",
            "\n",
            "        ...,\n",
            "\n",
            "\n",
            "        [[[0.7765, 0.4627, 0.3647,  ..., 0.3647, 0.4627, 0.7765],\n",
            "          [0.2588, 0.1686, 0.1333,  ..., 0.1333, 0.1686, 0.2588],\n",
            "          [0.0980, 0.1765, 0.5294,  ..., 0.5294, 0.1765, 0.0980],\n",
            "          ...,\n",
            "          [0.1569, 0.1294, 0.2549,  ..., 0.2549, 0.1294, 0.1569],\n",
            "          [0.5098, 0.1373, 0.1059,  ..., 0.1059, 0.1373, 0.5098],\n",
            "          [0.7333, 0.6863, 0.6667,  ..., 0.6667, 0.6863, 0.7333]]],\n",
            "\n",
            "\n",
            "        [[[0.7765, 0.4627, 0.3647,  ..., 0.3647, 0.4627, 0.7765],\n",
            "          [0.2588, 0.1686, 0.1333,  ..., 0.1333, 0.1686, 0.2588],\n",
            "          [0.0980, 0.1765, 0.5294,  ..., 0.5294, 0.1765, 0.0980],\n",
            "          ...,\n",
            "          [0.1569, 0.1294, 0.2549,  ..., 0.2549, 0.1294, 0.1569],\n",
            "          [0.5098, 0.1373, 0.1059,  ..., 0.1059, 0.1373, 0.5098],\n",
            "          [0.7333, 0.6863, 0.6667,  ..., 0.6667, 0.6863, 0.7333]]],\n",
            "\n",
            "\n",
            "        [[[0.7765, 0.4627, 0.3647,  ..., 0.3647, 0.4627, 0.7765],\n",
            "          [0.2588, 0.1686, 0.1333,  ..., 0.1333, 0.1686, 0.2588],\n",
            "          [0.0980, 0.1765, 0.5294,  ..., 0.5294, 0.1765, 0.0980],\n",
            "          ...,\n",
            "          [0.1569, 0.1294, 0.2549,  ..., 0.2549, 0.1294, 0.1569],\n",
            "          [0.5098, 0.1373, 0.1059,  ..., 0.1059, 0.1373, 0.5098],\n",
            "          [0.7333, 0.6863, 0.6667,  ..., 0.6667, 0.6863, 0.7333]]]],\n",
            "       device='cuda:0')\n",
            "tensor([[34,  3,  1,  ..., 21,  1, 10],\n",
            "        [12,  1,  3,  ..., 35,  3,  4],\n",
            "        [35,  8,  5,  ..., 18,  6,  7],\n",
            "        ...,\n",
            "        [15,  5,  3,  ..., 11,  1,  4],\n",
            "        [21,  9,  3,  ..., 35,  8,  9],\n",
            "        [26,  5,  5,  ..., 30,  5,  4]], device='cuda:0')\n",
            "tensor([37, 37, 37, 37, 37, 37, 37, 37, 37, 37, 37, 37, 37, 37, 37, 37, 37, 37,\n",
            "        37, 37, 37, 37, 37, 37, 37, 37, 37, 37, 37, 37, 37, 37, 37, 37, 37, 37,\n",
            "        37, 37, 37, 37, 37, 37, 37, 37, 37, 37, 37, 37, 37, 37, 37, 37, 37, 37,\n",
            "        37, 37, 37, 37, 37, 37, 37, 37, 37, 37, 37, 37, 37, 37, 37, 37, 37, 37,\n",
            "        37, 37, 37, 37, 37, 37, 37, 37, 37, 37, 37, 37, 37, 37, 37, 37, 37, 37,\n",
            "        37, 37, 37, 37, 37, 37, 37, 37, 37, 37, 37, 37, 37, 37, 37, 37, 37, 37,\n",
            "        37, 37, 37, 37, 37, 37, 37, 37, 37, 37, 37, 37, 37, 37, 37, 37, 37, 37,\n",
            "        37, 37], device='cuda:0')\n",
            "tensor([8, 8, 8, 8, 8, 8, 8, 8, 8, 8, 8, 8, 8, 8, 8, 8, 8, 8, 8, 8, 8, 8, 8, 8,\n",
            "        8, 8, 8, 8, 8, 8, 8, 8, 8, 8, 8, 8, 8, 8, 8, 8, 8, 8, 8, 8, 8, 8, 8, 8,\n",
            "        8, 8, 8, 8, 8, 8, 8, 8, 8, 8, 8, 8, 8, 8, 8, 8, 8, 8, 8, 8, 8, 8, 8, 8,\n",
            "        8, 8, 8, 8, 8, 8, 8, 8, 8, 8, 8, 8, 8, 8, 8, 8, 8, 8, 8, 8, 8, 8, 8, 8,\n",
            "        8, 8, 8, 8, 8, 8, 8, 8, 8, 8, 8, 8, 8, 8, 8, 8, 8, 8, 8, 8, 8, 8, 8, 8,\n",
            "        8, 8, 8, 8, 8, 8, 8, 8], device='cuda:0')\n",
            "torch.Size([32, 128, 37])\n"
          ],
          "name": "stdout"
        },
        {
          "output_type": "error",
          "ename": "RuntimeError",
          "evalue": "ignored",
          "traceback": [
            "\u001b[0;31m---------------------------------------------------------------------------\u001b[0m",
            "\u001b[0;31mRuntimeError\u001b[0m                              Traceback (most recent call last)",
            "\u001b[0;32m<ipython-input-44-9beb14f7d33f>\u001b[0m in \u001b[0;36m<module>\u001b[0;34m()\u001b[0m\n\u001b[1;32m     44\u001b[0m     \u001b[0;31m#         print(x_lens.shape)\u001b[0m\u001b[0;34m\u001b[0m\u001b[0;34m\u001b[0m\u001b[0;34m\u001b[0m\u001b[0m\n\u001b[1;32m     45\u001b[0m     \u001b[0;31m#         print(y_lens.shape)\u001b[0m\u001b[0;34m\u001b[0m\u001b[0;34m\u001b[0m\u001b[0;34m\u001b[0m\u001b[0m\n\u001b[0;32m---> 46\u001b[0;31m         \u001b[0mloss\u001b[0m \u001b[0;34m=\u001b[0m \u001b[0mcriterion\u001b[0m\u001b[0;34m(\u001b[0m\u001b[0mpred\u001b[0m\u001b[0;34m[\u001b[0m\u001b[0;34m:\u001b[0m\u001b[0;34m,\u001b[0m \u001b[0;34m:\u001b[0m\u001b[0;34m,\u001b[0m \u001b[0;34m:\u001b[0m\u001b[0;34m]\u001b[0m\u001b[0;34m,\u001b[0m \u001b[0my\u001b[0m\u001b[0;34m,\u001b[0m \u001b[0mx_lens\u001b[0m\u001b[0;34m,\u001b[0m \u001b[0my_lens\u001b[0m\u001b[0;34m)\u001b[0m\u001b[0;34m\u001b[0m\u001b[0;34m\u001b[0m\u001b[0m\n\u001b[0m\u001b[1;32m     47\u001b[0m \u001b[0;34m\u001b[0m\u001b[0m\n\u001b[1;32m     48\u001b[0m         \u001b[0moptimizer\u001b[0m\u001b[0;34m.\u001b[0m\u001b[0mzero_grad\u001b[0m\u001b[0;34m(\u001b[0m\u001b[0;34m)\u001b[0m\u001b[0;34m\u001b[0m\u001b[0;34m\u001b[0m\u001b[0m\n",
            "\u001b[0;32m/usr/local/lib/python3.6/dist-packages/torch/nn/modules/module.py\u001b[0m in \u001b[0;36m__call__\u001b[0;34m(self, *input, **kwargs)\u001b[0m\n\u001b[1;32m    539\u001b[0m             \u001b[0mresult\u001b[0m \u001b[0;34m=\u001b[0m \u001b[0mself\u001b[0m\u001b[0;34m.\u001b[0m\u001b[0m_slow_forward\u001b[0m\u001b[0;34m(\u001b[0m\u001b[0;34m*\u001b[0m\u001b[0minput\u001b[0m\u001b[0;34m,\u001b[0m \u001b[0;34m**\u001b[0m\u001b[0mkwargs\u001b[0m\u001b[0;34m)\u001b[0m\u001b[0;34m\u001b[0m\u001b[0;34m\u001b[0m\u001b[0m\n\u001b[1;32m    540\u001b[0m         \u001b[0;32melse\u001b[0m\u001b[0;34m:\u001b[0m\u001b[0;34m\u001b[0m\u001b[0;34m\u001b[0m\u001b[0m\n\u001b[0;32m--> 541\u001b[0;31m             \u001b[0mresult\u001b[0m \u001b[0;34m=\u001b[0m \u001b[0mself\u001b[0m\u001b[0;34m.\u001b[0m\u001b[0mforward\u001b[0m\u001b[0;34m(\u001b[0m\u001b[0;34m*\u001b[0m\u001b[0minput\u001b[0m\u001b[0;34m,\u001b[0m \u001b[0;34m**\u001b[0m\u001b[0mkwargs\u001b[0m\u001b[0;34m)\u001b[0m\u001b[0;34m\u001b[0m\u001b[0;34m\u001b[0m\u001b[0m\n\u001b[0m\u001b[1;32m    542\u001b[0m         \u001b[0;32mfor\u001b[0m \u001b[0mhook\u001b[0m \u001b[0;32min\u001b[0m \u001b[0mself\u001b[0m\u001b[0;34m.\u001b[0m\u001b[0m_forward_hooks\u001b[0m\u001b[0;34m.\u001b[0m\u001b[0mvalues\u001b[0m\u001b[0;34m(\u001b[0m\u001b[0;34m)\u001b[0m\u001b[0;34m:\u001b[0m\u001b[0;34m\u001b[0m\u001b[0;34m\u001b[0m\u001b[0m\n\u001b[1;32m    543\u001b[0m             \u001b[0mhook_result\u001b[0m \u001b[0;34m=\u001b[0m \u001b[0mhook\u001b[0m\u001b[0;34m(\u001b[0m\u001b[0mself\u001b[0m\u001b[0;34m,\u001b[0m \u001b[0minput\u001b[0m\u001b[0;34m,\u001b[0m \u001b[0mresult\u001b[0m\u001b[0;34m)\u001b[0m\u001b[0;34m\u001b[0m\u001b[0;34m\u001b[0m\u001b[0m\n",
            "\u001b[0;32m/usr/local/lib/python3.6/dist-packages/torch/nn/modules/loss.py\u001b[0m in \u001b[0;36mforward\u001b[0;34m(self, log_probs, targets, input_lengths, target_lengths)\u001b[0m\n\u001b[1;32m   1293\u001b[0m     \u001b[0;32mdef\u001b[0m \u001b[0mforward\u001b[0m\u001b[0;34m(\u001b[0m\u001b[0mself\u001b[0m\u001b[0;34m,\u001b[0m \u001b[0mlog_probs\u001b[0m\u001b[0;34m,\u001b[0m \u001b[0mtargets\u001b[0m\u001b[0;34m,\u001b[0m \u001b[0minput_lengths\u001b[0m\u001b[0;34m,\u001b[0m \u001b[0mtarget_lengths\u001b[0m\u001b[0;34m)\u001b[0m\u001b[0;34m:\u001b[0m\u001b[0;34m\u001b[0m\u001b[0;34m\u001b[0m\u001b[0m\n\u001b[1;32m   1294\u001b[0m         return F.ctc_loss(log_probs, targets, input_lengths, target_lengths, self.blank, self.reduction,\n\u001b[0;32m-> 1295\u001b[0;31m                           self.zero_infinity)\n\u001b[0m\u001b[1;32m   1296\u001b[0m \u001b[0;34m\u001b[0m\u001b[0m\n\u001b[1;32m   1297\u001b[0m \u001b[0;31m# TODO: L1HingeEmbeddingCriterion\u001b[0m\u001b[0;34m\u001b[0m\u001b[0;34m\u001b[0m\u001b[0;34m\u001b[0m\u001b[0m\n",
            "\u001b[0;32m/usr/local/lib/python3.6/dist-packages/torch/nn/functional.py\u001b[0m in \u001b[0;36mctc_loss\u001b[0;34m(log_probs, targets, input_lengths, target_lengths, blank, reduction, zero_infinity)\u001b[0m\n\u001b[1;32m   1779\u001b[0m     \"\"\"\n\u001b[1;32m   1780\u001b[0m     return torch.ctc_loss(log_probs, targets, input_lengths, target_lengths, blank, _Reduction.get_enum(reduction),\n\u001b[0;32m-> 1781\u001b[0;31m                           zero_infinity)\n\u001b[0m\u001b[1;32m   1782\u001b[0m \u001b[0;34m\u001b[0m\u001b[0m\n\u001b[1;32m   1783\u001b[0m \u001b[0;34m\u001b[0m\u001b[0m\n",
            "\u001b[0;31mRuntimeError\u001b[0m: Expected input_lengths to have value at most 32, but got value 37 (while checking arguments for ctc_loss_gpu)"
          ]
        }
      ]
    },
    {
      "cell_type": "markdown",
      "metadata": {
        "id": "97WK5o2_fx_U",
        "colab_type": "text"
      },
      "source": [
        "# Predict Image"
      ]
    },
    {
      "cell_type": "code",
      "metadata": {
        "colab_type": "code",
        "id": "dGVui4X1uQEc",
        "colab": {}
      },
      "source": [
        "def final_output(predicted_output):\n",
        "    predicted_output = [charList[i[0]] for i in predicted_output]\n",
        "    print(predicted_output)\n",
        "    output = ['_']\n",
        "    for i in predicted_output:\n",
        "        if i == output[-1]:\n",
        "            continue\n",
        "        output.append(i)\n",
        "\n",
        "    output = [i for i in output if i != '_']\n",
        "    return ''.join(output[:8])"
      ],
      "execution_count": 0,
      "outputs": []
    },
    {
      "cell_type": "code",
      "metadata": {
        "id": "nVqTabhWqyqC",
        "colab_type": "code",
        "outputId": "d173b594-483e-40ae-95d3-af5938adda2f",
        "colab": {
          "base_uri": "https://localhost:8080/",
          "height": 151
        }
      },
      "source": [
        "image_index = -4\n",
        "plt.imshow(x[image_index].view(32, 128).to(torch.device('cpu')))\n",
        "plt.plot()\n",
        "print(\"Input Image: \")"
      ],
      "execution_count": 0,
      "outputs": [
        {
          "output_type": "stream",
          "text": [
            "Input Image: \n"
          ],
          "name": "stdout"
        },
        {
          "output_type": "display_data",
          "data": {
            "image/png": "[encoded data removed]",
            "text/plain": [
              "<Figure size 432x288 with 1 Axes>"
            ]
          },
          "metadata": {
            "tags": []
          }
        }
      ]
    },
    {
      "cell_type": "code",
      "metadata": {
        "colab_type": "code",
        "outputId": "3c8244a5-b1d6-43c4-9e7a-2c9fa3efeeb1",
        "id": "xq0paqCTt_eD",
        "colab": {
          "base_uri": "https://localhost:8080/",
          "height": 72
        }
      },
      "source": [
        "print(\"Number in the number plate image:\", final_output(model.forward(x[image_index].view(1, 1, 32, 128).to(device)).argmax(-1).tolist()))"
      ],
      "execution_count": 0,
      "outputs": [
        {
          "output_type": "stream",
          "text": [
            "['B', '_', '_', '4', '_', '3', '_', '5', '_', '_', '_', '_', '_', '_', '_', '_', 'H', '_', 'P', '_', '_', '0', '7', '7', '7', '7', '7', '7', '7', '7', '7', '_']\n",
            "Number in the number plate image: B435HP07\n"
          ],
          "name": "stdout"
        }
      ]
    },
    {
      "cell_type": "markdown",
      "metadata": {
        "id": "6oT9QZy9fj_6",
        "colab_type": "text"
      },
      "source": [
        "# Mounting Google Drive"
      ]
    },
    {
      "cell_type": "code",
      "metadata": {
        "id": "GsT27uEkweWB",
        "colab_type": "code",
        "outputId": "5b0c5e1c-27df-4840-b378-1dbc7e63f6c6",
        "colab": {
          "base_uri": "https://localhost:8080/",
          "height": 124
        }
      },
      "source": [
        "from google.colab import drive\n",
        "drive.mount('/content/gdrive/')"
      ],
      "execution_count": 0,
      "outputs": [
        {
          "output_type": "stream",
          "text": [
            "Go to this URL in a browser: https://accounts.google.com/o/oauth2/auth?client_id=947318989803-6bn6qk8qdgf4n4g3pfee6491hc0brc4i.apps.googleusercontent.com&redirect_uri=urn%3aietf%3awg%3aoauth%3a2.0%3aoob&response_type=code&scope=email%20https%3a%2f%2fwww.googleapis.com%2fauth%2fdocs.test%20https%3a%2f%2fwww.googleapis.com%2fauth%2fdrive%20https%3a%2f%2fwww.googleapis.com%2fauth%2fdrive.photos.readonly%20https%3a%2f%2fwww.googleapis.com%2fauth%2fpeopleapi.readonly\n",
            "\n",
            "Enter your authorization code:\n",
            "··········\n",
            "Mounted at /content/gdrive/\n"
          ],
          "name": "stdout"
        }
      ]
    },
    {
      "cell_type": "code",
      "metadata": {
        "id": "j95KgeFVwc3g",
        "colab_type": "code",
        "outputId": "4fb278f3-1ba1-4ec7-c682-0758b022e927",
        "colab": {
          "base_uri": "https://localhost:8080/",
          "height": 35
        }
      },
      "source": [
        "!ls /content/gdrive/My\\ Drive/Colab\\ Notebooks/weights"
      ],
      "execution_count": 0,
      "outputs": [
        {
          "output_type": "stream",
          "text": [
            "numberplate_ocr_torch_1000.pt\n"
          ],
          "name": "stdout"
        }
      ]
    },
    {
      "cell_type": "markdown",
      "metadata": {
        "id": "9nBlzpQBcz3C",
        "colab_type": "text"
      },
      "source": [
        "# Save Model"
      ]
    },
    {
      "cell_type": "code",
      "metadata": {
        "id": "JYSrH9YKcyBN",
        "colab_type": "code",
        "outputId": "dfa81c68-4efa-47e0-f465-a90c0ef15bb3",
        "colab": {
          "base_uri": "https://localhost:8080/",
          "height": 211
        }
      },
      "source": [
        "torch.save(model, '/content/gdrive/My Drive/Colab Notebooks/weights/numberplate_ocr_torch_{}.pt'.format(epochs))"
      ],
      "execution_count": 0,
      "outputs": [
        {
          "output_type": "stream",
          "text": [
            "/usr/local/lib/python3.6/dist-packages/torch/serialization.py:292: UserWarning: Couldn't retrieve source code for container of type OCR. It won't be checked for correctness upon loading.\n",
            "  \"type \" + obj.__name__ + \". It won't be checked \"\n",
            "/usr/local/lib/python3.6/dist-packages/torch/serialization.py:292: UserWarning: Couldn't retrieve source code for container of type Conv2d. It won't be checked for correctness upon loading.\n",
            "  \"type \" + obj.__name__ + \". It won't be checked \"\n",
            "/usr/local/lib/python3.6/dist-packages/torch/serialization.py:292: UserWarning: Couldn't retrieve source code for container of type GRU. It won't be checked for correctness upon loading.\n",
            "  \"type \" + obj.__name__ + \". It won't be checked \"\n",
            "/usr/local/lib/python3.6/dist-packages/torch/serialization.py:292: UserWarning: Couldn't retrieve source code for container of type Linear. It won't be checked for correctness upon loading.\n",
            "  \"type \" + obj.__name__ + \". It won't be checked \"\n",
            "/usr/local/lib/python3.6/dist-packages/torch/serialization.py:292: UserWarning: Couldn't retrieve source code for container of type Softmax. It won't be checked for correctness upon loading.\n",
            "  \"type \" + obj.__name__ + \". It won't be checked \"\n"
          ],
          "name": "stderr"
        }
      ]
    },
    {
      "cell_type": "code",
      "metadata": {
        "id": "wDbVpDZicx9u",
        "colab_type": "code",
        "colab": {}
      },
      "source": [
        "model2 = torch.load('/content/gdrive/My Drive/Colab Notebooks/weights/numberplate_ocr_torch_1000.pt').to(device)"
      ],
      "execution_count": 0,
      "outputs": []
    },
    {
      "cell_type": "markdown",
      "metadata": {
        "id": "WWNBRQpxf0mQ",
        "colab_type": "text"
      },
      "source": [
        "# End loading page"
      ]
    },
    {
      "cell_type": "code",
      "metadata": {
        "id": "GQlRmkjEZ0JL",
        "colab_type": "code",
        "outputId": "e7d1d81d-cd53-4248-fa04-7b5f263235fa",
        "colab": {
          "base_uri": "https://localhost:8080/",
          "height": 166
        }
      },
      "source": [
        "assert False"
      ],
      "execution_count": 0,
      "outputs": [
        {
          "output_type": "error",
          "ename": "AssertionError",
          "evalue": "ignored",
          "traceback": [
            "\u001b[0;31m---------------------------------------------------------------------------\u001b[0m",
            "\u001b[0;31mAssertionError\u001b[0m                            Traceback (most recent call last)",
            "\u001b[0;32m<ipython-input-22-a871fdc9ebee>\u001b[0m in \u001b[0;36m<module>\u001b[0;34m()\u001b[0m\n\u001b[0;32m----> 1\u001b[0;31m \u001b[0;32massert\u001b[0m \u001b[0;32mFalse\u001b[0m\u001b[0;34m\u001b[0m\u001b[0;34m\u001b[0m\u001b[0m\n\u001b[0m",
            "\u001b[0;31mAssertionError\u001b[0m: "
          ]
        }
      ]
    },
    {
      "cell_type": "markdown",
      "metadata": {
        "id": "OMAeBm2Kf6yS",
        "colab_type": "text"
      },
      "source": [
        "# For CTC loss calculation"
      ]
    },
    {
      "cell_type": "code",
      "metadata": {
        "id": "YE-DGzWohtIP",
        "colab_type": "code",
        "colab": {}
      },
      "source": [
        "# pred.shape, y.shape, x_lengths.shape, y_lengths.shape\n",
        "from torch.autograd import Variable"
      ],
      "execution_count": 0,
      "outputs": []
    },
    {
      "cell_type": "code",
      "metadata": {
        "id": "JEVgspEzR7-K",
        "colab_type": "code",
        "colab": {}
      },
      "source": [
        "T = 50      # Input sequence length\n",
        "C = 20      # Number of classes (including blank)\n",
        "N = 16      # Batch size\n",
        "S = 30      # Target sequence length of longest target in batch\n",
        "S_min = 10  # Minimum target length, for demonstration purposes\n",
        "\n",
        "# Initialize random batch of input vectors, for *size = (T,N,C)\n",
        "# input = torch.randn(T, N, C).log_softmax(2).detach().requires_grad_()\n",
        "input = Variable(torch.randn(T, N, C).log_softmax(2), requires_grad=True)\n",
        "\n",
        "# Initialize random batch of targets (0 = blank, 1:C = classes)\n",
        "target = torch.randint(low=1, high=C, size=(N, S), dtype=torch.long)\n",
        "\n",
        "input_lengths = torch.full(size=(N,), fill_value=T, dtype=torch.long)\n",
        "target_lengths = torch.randint(low=S_min, high=S, size=(N,), dtype=torch.long)\n",
        "ctc_loss = nn.CTCLoss()\n",
        "loss = ctc_loss(input, target, input_lengths, target_lengths)\n",
        "loss.backward()"
      ],
      "execution_count": 0,
      "outputs": []
    },
    {
      "cell_type": "code",
      "metadata": {
        "id": "EFI-ASTRqSrx",
        "colab_type": "code",
        "colab": {}
      },
      "source": [
        "input.shape, target.shape, input_lengths.shape, target_lengths.shape"
      ],
      "execution_count": 0,
      "outputs": []
    },
    {
      "cell_type": "code",
      "metadata": {
        "id": "WQxP3qvPg-Va",
        "colab_type": "code",
        "colab": {}
      },
      "source": [
        "input[:, 0, :]"
      ],
      "execution_count": 0,
      "outputs": []
    },
    {
      "cell_type": "code",
      "metadata": {
        "id": "x9DjMkfmKiZ9",
        "colab_type": "code",
        "colab": {}
      },
      "source": [
        "loss.item()"
      ],
      "execution_count": 0,
      "outputs": []
    },
    {
      "cell_type": "code",
      "metadata": {
        "id": "mUT6tih3K3hP",
        "colab_type": "code",
        "colab": {}
      },
      "source": [
        "plt.imshow((x[0] * 255).view(64, 128).numpy())"
      ],
      "execution_count": 0,
      "outputs": []
    },
    {
      "cell_type": "code",
      "metadata": {
        "id": "bSpe_9bdNVqp",
        "colab_type": "code",
        "colab": {}
      },
      "source": [
        "[charList[i] for i in y[0]]"
      ],
      "execution_count": 0,
      "outputs": []
    },
    {
      "cell_type": "code",
      "metadata": {
        "id": "fpLS9SINQdnt",
        "colab_type": "code",
        "colab": {}
      },
      "source": [
        "y_lengths"
      ],
      "execution_count": 0,
      "outputs": []
    },
    {
      "cell_type": "code",
      "metadata": {
        "id": "S-Qbsve5V-aA",
        "colab_type": "code",
        "colab": {}
      },
      "source": [
        "y"
      ],
      "execution_count": 0,
      "outputs": []
    }
  ]
}